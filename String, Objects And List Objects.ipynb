{
 "cells": [
  {
   "cell_type": "markdown",
   "id": "82c8ecfe",
   "metadata": {},
   "source": [
    "###### 1. Create the below pattern using nested for loop in Python."
   ]
  },
  {
   "cell_type": "code",
   "execution_count": 1,
   "id": "09c2d306",
   "metadata": {},
   "outputs": [
    {
     "name": "stdout",
     "output_type": "stream",
     "text": [
      "5\n",
      "*\n",
      "**\n",
      "***\n",
      "****\n",
      "*****\n",
      "******\n",
      "*****\n",
      "****\n",
      "***\n",
      "**\n",
      "*\n"
     ]
    }
   ],
   "source": [
    "n = int(input())\n",
    "\n",
    "for i in range(n+1):\n",
    "    for j in range(i+1):\n",
    "        print(\"*\", end = \"\")\n",
    "    print()\n",
    "for i in range(n):\n",
    "    for j in range(i,n):\n",
    "        print(end = \"\")\n",
    "    for j in range(i,n):\n",
    "        print(\"*\", end = \"\")\n",
    "    print()\n",
    "    "
   ]
  },
  {
   "cell_type": "markdown",
   "id": "0ca7945b",
   "metadata": {},
   "source": [
    "###### 2.Write a Python program to reverse a word after accepting the input from the user. "
   ]
  },
  {
   "cell_type": "code",
   "execution_count": 2,
   "id": "e0501747",
   "metadata": {},
   "outputs": [
    {
     "name": "stdout",
     "output_type": "stream",
     "text": [
      "Enter your name ineuron\n",
      "norueni\n",
      "\n"
     ]
    }
   ],
   "source": [
    "## Method-1\n",
    "\n",
    "user = input(\"Enter your name \")\n",
    "for i in range(len(user)-1,-1,-1):\n",
    "    print(user[i], end = \"\")\n",
    "print(\"\\n\")"
   ]
  },
  {
   "cell_type": "code",
   "execution_count": 3,
   "id": "4052ff60",
   "metadata": {},
   "outputs": [
    {
     "name": "stdout",
     "output_type": "stream",
     "text": [
      "Enter your Name\tineuron\n"
     ]
    },
    {
     "data": {
      "text/plain": [
       "'norueni'"
      ]
     },
     "execution_count": 3,
     "metadata": {},
     "output_type": "execute_result"
    }
   ],
   "source": [
    "## Method-2\n",
    "\n",
    "user = input(\"Enter your Name\\t\")\n",
    "user[::-1]"
   ]
  },
  {
   "cell_type": "code",
   "execution_count": null,
   "id": "e656b713",
   "metadata": {},
   "outputs": [],
   "source": []
  }
 ],
 "metadata": {
  "kernelspec": {
   "display_name": "Python 3",
   "language": "python",
   "name": "python3"
  },
  "language_info": {
   "codemirror_mode": {
    "name": "ipython",
    "version": 3
   },
   "file_extension": ".py",
   "mimetype": "text/x-python",
   "name": "python",
   "nbconvert_exporter": "python",
   "pygments_lexer": "ipython3",
   "version": "3.8.8"
  }
 },
 "nbformat": 4,
 "nbformat_minor": 5
}
